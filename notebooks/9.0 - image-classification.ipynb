{
 "cells": [
  {
   "cell_type": "code",
   "execution_count": null,
   "id": "35a4145a",
   "metadata": {},
   "outputs": [],
   "source": [
    "from pathlib import Path\n",
    "from src.models.train_model import multiple_cls_test\n",
    "# project_dir = Path(__file__).resolve().parents[2]\n",
    "\n",
    "image_path = '../data/raw/'\n",
    "# Extract pixels from the whole image\n",
    "multiple_cls_test(image_path, False)\n",
    "# Extract pixels from the circle of an image.\n",
    "multiple_cls_test(image_path, True)"
   ]
  },
  {
   "cell_type": "code",
   "execution_count": null,
   "id": "0b2240ca",
   "metadata": {},
   "outputs": [],
   "source": []
  }
 ],
 "metadata": {
  "kernelspec": {
   "display_name": "Python 3 (ipykernel)",
   "language": "python",
   "name": "python3"
  },
  "language_info": {
   "codemirror_mode": {
    "name": "ipython",
    "version": 3
   },
   "file_extension": ".py",
   "mimetype": "text/x-python",
   "name": "python",
   "nbconvert_exporter": "python",
   "pygments_lexer": "ipython3",
   "version": "3.8.2"
  }
 },
 "nbformat": 4,
 "nbformat_minor": 5
}
