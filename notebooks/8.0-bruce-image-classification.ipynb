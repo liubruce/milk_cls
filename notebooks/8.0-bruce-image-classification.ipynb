{
 "cells": [
  {
   "cell_type": "code",
   "execution_count": 4,
   "id": "b0fede53",
   "metadata": {},
   "outputs": [],
   "source": [
    "# import necessary packages\n",
    "from sklearn.neighbors import KNeighborsClassifier\n",
    "from sklearn.preprocessing import LabelEncoder\n",
    "from sklearn.model_selection import  train_test_split\n",
    "from sklearn.metrics import classification_report\n",
    "# from pyimagesearch import simplepreprocessor\n",
    "# from pyimagesearch import simpledatasetloader\n",
    "from imutils import paths\n",
    "import os\n",
    "import glob\n",
    "import cv2\n",
    "import numpy as np\n",
    "from src.features.build_features import getLBPimage\n",
    "\n",
    "def getListOfFiles(dirName):\n",
    "    # create a list of file and sub directories\n",
    "    # names in the given directory\n",
    "    listOfFile = os.listdir(dirName)\n",
    "    allFiles = list()\n",
    "    # Iterate over all the entries\n",
    "    for entry in listOfFile:\n",
    "        # Create full path\n",
    "        fullPath = os.path.join(dirName, entry)\n",
    "        # If entry is a directory then get the list of files in this directory\n",
    "        if os.path.isdir(fullPath):\n",
    "            allFiles = allFiles + getListOfFiles(fullPath)\n",
    "        else:\n",
    "            allFiles.append(fullPath)\n",
    "\n",
    "    return allFiles\n",
    "\n",
    "def create_training_data():\n",
    "    imagePaths = getListOfFiles(\"../data/raw\") ## Folder structure: datasets --> sub-folders with labels name\n",
    "    #print(imagePaths)\n",
    "\n",
    "    data = []\n",
    "    lables = []\n",
    "    c = 0 ## to see the progress\n",
    "    for image in imagePaths:\n",
    "\n",
    "        lable = os.path.split(os.path.split(image)[0])[1]\n",
    "        lables.append(lable)\n",
    "\n",
    "        img = cv2.imread(image)\n",
    "    #     print('image is ', image)\n",
    "\n",
    "        img = getLBPimage(img)\n",
    "        img = cv2.resize(img, (100, 100), interpolation = cv2.INTER_AREA)        \n",
    "#         vecimgLBP = imgLBP.flatten()\n",
    "        data.append(img[0])\n",
    "        c=c+1\n",
    "        print(c)\n",
    "#         if c > 3: \n",
    "#             break\n",
    "    return data, lables\n"
   ]
  },
  {
   "cell_type": "code",
   "execution_count": null,
   "id": "578888a8",
   "metadata": {},
   "outputs": [],
   "source": []
  },
  {
   "cell_type": "code",
   "execution_count": 39,
   "id": "e996c054",
   "metadata": {
    "scrolled": true
   },
   "outputs": [
    {
     "name": "stdout",
     "output_type": "stream",
     "text": [
      "1\n",
      "2\n",
      "3\n",
      "4\n",
      "5\n",
      "6\n",
      "7\n",
      "8\n",
      "9\n",
      "10\n",
      "11\n",
      "12\n",
      "13\n",
      "14\n",
      "15\n",
      "16\n",
      "17\n",
      "18\n",
      "19\n",
      "20\n",
      "21\n",
      "22\n",
      "23\n",
      "24\n",
      "25\n",
      "26\n",
      "27\n",
      "28\n",
      "29\n"
     ]
    }
   ],
   "source": [
    "data, lables = create_training_data()"
   ]
  },
  {
   "cell_type": "code",
   "execution_count": 40,
   "id": "2cf0752b",
   "metadata": {},
   "outputs": [
    {
     "name": "stdout",
     "output_type": "stream",
     "text": [
      "{0, 1}\n",
      "(29, 100)\n",
      "(29,)\n",
      "29\n",
      "              precision    recall  f1-score   support\n",
      "\n",
      "          dn       0.67      0.80      0.73         5\n",
      "          pc       0.50      0.33      0.40         3\n",
      "\n",
      "    accuracy                           0.62         8\n",
      "   macro avg       0.58      0.57      0.56         8\n",
      "weighted avg       0.60      0.62      0.60         8\n",
      "\n"
     ]
    }
   ],
   "source": [
    "# print(lables)\n",
    "\n",
    "# encode the labels as integer\n",
    "data = np.array(data)\n",
    "lables = np.array(lables)\n",
    "\n",
    "le = LabelEncoder()\n",
    "lables = le.fit_transform(lables)\n",
    "\n",
    "myset = set(lables)\n",
    "print(myset)\n",
    "\n",
    "dataset_size = data.shape[0]\n",
    "data = data.reshape(dataset_size,-1)\n",
    "\n",
    "print(data.shape)\n",
    "print(lables.shape)\n",
    "print(dataset_size)\n",
    "\n",
    "(trainX, testX, trainY, testY ) = train_test_split(data, lables, test_size= 0.25, random_state=42)\n",
    "\n",
    "model = KNeighborsClassifier(n_neighbors=3, n_jobs=-1)\n",
    "model.fit(trainX, trainY)\n",
    "\n",
    "print(classification_report(testY, model.predict(testX), target_names=le.classes_))"
   ]
  },
  {
   "cell_type": "code",
   "execution_count": 47,
   "id": "b0d3f66d",
   "metadata": {},
   "outputs": [
    {
     "data": {
      "text/plain": [
       "0.625"
      ]
     },
     "execution_count": 47,
     "metadata": {},
     "output_type": "execute_result"
    }
   ],
   "source": [
    "score = model.score(testX, testY)\n",
    "score"
   ]
  },
  {
   "cell_type": "code",
   "execution_count": 48,
   "id": "bd3ca0b4",
   "metadata": {},
   "outputs": [
    {
     "name": "stderr",
     "output_type": "stream",
     "text": [
      "/Users/bruceliu/projects/milk_cls/venv/lib/python3.8/site-packages/sklearn/model_selection/_split.py:676: UserWarning: The least populated class in y has only 9 members, which is less than n_splits=10.\n",
      "  warnings.warn(\n"
     ]
    },
    {
     "data": {
      "text/plain": [
       "array([0.66666667, 0.5       , 0.5       , 0.5       , 0.5       ,\n",
       "       0.5       , 0.5       , 0.5       , 0.5       , 0.        ])"
      ]
     },
     "execution_count": 48,
     "metadata": {},
     "output_type": "execute_result"
    }
   ],
   "source": [
    "from sklearn.model_selection import cross_val_score\n",
    "from sklearn.tree import DecisionTreeClassifier\n",
    "clf = DecisionTreeClassifier(random_state=0)\n",
    "cross_val_score(clf, trainX, trainY, cv=10)"
   ]
  },
  {
   "cell_type": "code",
   "execution_count": 50,
   "id": "0b81fe97",
   "metadata": {},
   "outputs": [
    {
     "data": {
      "text/plain": [
       "DecisionTreeClassifier(random_state=0)"
      ]
     },
     "execution_count": 50,
     "metadata": {},
     "output_type": "execute_result"
    }
   ],
   "source": [
    "clf.fit(trainX, trainY)"
   ]
  },
  {
   "cell_type": "code",
   "execution_count": 51,
   "id": "fa7e23dc",
   "metadata": {},
   "outputs": [
    {
     "data": {
      "text/plain": [
       "0.375"
      ]
     },
     "execution_count": 51,
     "metadata": {},
     "output_type": "execute_result"
    }
   ],
   "source": [
    "score = clf.score(testX, testY)\n",
    "score"
   ]
  },
  {
   "cell_type": "code",
   "execution_count": 53,
   "id": "10281f70",
   "metadata": {},
   "outputs": [
    {
     "data": {
      "text/plain": [
       "0.5"
      ]
     },
     "execution_count": 53,
     "metadata": {},
     "output_type": "execute_result"
    }
   ],
   "source": [
    "from sklearn.ensemble import GradientBoostingClassifier\n",
    "clf = GradientBoostingClassifier(n_estimators=100, learning_rate=1.0,\n",
    "     max_depth=1, random_state=0).fit(trainX, trainY)\n",
    "clf.score(testX, testY)"
   ]
  },
  {
   "cell_type": "code",
   "execution_count": 6,
   "id": "c8eaf326",
   "metadata": {},
   "outputs": [],
   "source": [
    "from src.features.build_features import circle_to_lbp\n",
    "from PIL import Image, ImageDraw\n",
    "\n",
    "def extract_infor_circle(img_origin, x, y, r):\n",
    "    img_arr = img_origin\n",
    "    h,w = img_arr.shape[1], img_arr.shape[0]\n",
    "    lum_img = Image.new('L',[h,w] ,0) \n",
    "    draw = ImageDraw.Draw(lum_img)\n",
    "\n",
    "    leftUpPoint = (x-r, y-r)\n",
    "    rightDownPoint = (x+r, y+r)\n",
    "    twoPointList = [leftUpPoint, rightDownPoint]\n",
    "    draw.ellipse(twoPointList, fill=255)\n",
    "    lum_img_arr = np.array(lum_img)\n",
    "    final_img_arr = np.dstack((img_arr, lum_img_arr))\n",
    "    return final_img_arr\n",
    "\n",
    "def getLBPimage(image):\n",
    "    ### Step 0: Step 0: Convert an image to grayscale\n",
    "    gray_image = image\n",
    "#     cv2.cvtColor(image, cv2.COLOR_BGR2GRAY)\n",
    "    imgLBP = np.zeros_like(gray_image)\n",
    "    neighboor = 3 \n",
    "    for ih in range(0,image.shape[0] - neighboor):\n",
    "        for iw in range(0,image.shape[1] - neighboor):\n",
    "            ### Step 1: 3 by 3 pixel\n",
    "            img          = gray_image[ih:ih+neighboor,iw:iw+neighboor]\n",
    "            center       = img[1,1]\n",
    "            img01        = (img >= center)*1.0\n",
    "            img01_vector = img01.T.flatten()\n",
    "            # it is ok to order counterclock manner\n",
    "            # img01_vector = img01.flatten()\n",
    "            ### Step 2: **Binary operation**:\n",
    "            img01_vector = np.delete(img01_vector,4)\n",
    "            ### Step 3: Decimal: Convert the binary operated values to a digit.\n",
    "            where_img01_vector = np.where(img01_vector)[0]\n",
    "            if len(where_img01_vector) >= 1:\n",
    "                num = np.sum(2**where_img01_vector)\n",
    "            else:\n",
    "                num = 0\n",
    "            imgLBP[ih+1,iw+1] = num\n",
    "    return(imgLBP)\n",
    "\n",
    "def create_training_data_from_circle():\n",
    "    imagePaths = getListOfFiles(\"../data/raw\") ## Folder structure: datasets --> sub-folders with labels name\n",
    "    #print(imagePaths)\n",
    "\n",
    "    data = []\n",
    "    lables = []\n",
    "    c = 0 ## to see the progress\n",
    "    for image in imagePaths:\n",
    "\n",
    "        lable = os.path.split(os.path.split(image)[0])[1]\n",
    "        lables.append(lable)\n",
    "\n",
    "#         img = cv2.imread(image)\n",
    "    #     print('image is ', image)\n",
    "\n",
    "#         img = getLBPimage(img)\n",
    "#         circles, num_cirlces, img = detect_outside_circle(str(image), draw_circle=False)\n",
    "\n",
    "#         merged_image = extract_infor_circle(img, circles[0][0][0], circles[0][0][1], circles[0][0][2])\n",
    "#         img    = getLBPimage(merged_image)\n",
    "        img = circle_to_lbp(image)\n",
    "        img = cv2.resize(img, (100, 100), interpolation = cv2.INTER_AREA)        \n",
    "#         vecimgLBP = imgLBP.flatten()\n",
    "        data.append(img[0])\n",
    "        c=c+1\n",
    "        print(c)\n",
    "    return data, lables"
   ]
  },
  {
   "cell_type": "code",
   "execution_count": 7,
   "id": "4e854200",
   "metadata": {},
   "outputs": [
    {
     "name": "stdout",
     "output_type": "stream",
     "text": [
      "The number of circle is  1\n",
      "1\n",
      "The number of circle is  1\n",
      "2\n",
      "The number of circle is  1\n",
      "3\n",
      "The number of circle is  1\n",
      "4\n",
      "The number of circle is  1\n",
      "5\n",
      "The number of circle is  1\n",
      "6\n",
      "The number of circle is  1\n",
      "7\n",
      "The number of circle is  1\n",
      "8\n",
      "The number of circle is  1\n",
      "9\n",
      "The number of circle is  1\n",
      "10\n",
      "The number of circle is  1\n",
      "11\n",
      "The number of circle is  1\n",
      "12\n",
      "The number of circle is  1\n",
      "13\n",
      "The number of circle is  1\n",
      "14\n",
      "The number of circle is  1\n",
      "15\n",
      "The number of circle is  1\n",
      "16\n",
      "The number of circle is  1\n",
      "17\n",
      "The number of circle is  1\n",
      "18\n",
      "The number of circle is  1\n",
      "19\n",
      "The number of circle is  1\n",
      "20\n",
      "The number of circle is  1\n",
      "21\n",
      "The number of circle is  1\n",
      "22\n",
      "The number of circle is  1\n",
      "23\n",
      "The number of circle is  1\n",
      "24\n",
      "The number of circle is  1\n",
      "25\n",
      "The number of circle is  1\n",
      "26\n",
      "The number of circle is  1\n",
      "27\n",
      "The number of circle is  1\n",
      "28\n",
      "The number of circle is  1\n",
      "29\n"
     ]
    }
   ],
   "source": [
    "data, lables = create_training_data_from_circle()"
   ]
  },
  {
   "cell_type": "code",
   "execution_count": 64,
   "id": "4dbd63ff",
   "metadata": {},
   "outputs": [
    {
     "name": "stdout",
     "output_type": "stream",
     "text": [
      "{0, 1}\n",
      "(29, 200)\n",
      "(29,)\n",
      "29\n",
      "              precision    recall  f1-score   support\n",
      "\n",
      "          dn       0.67      0.80      0.73         5\n",
      "          pc       0.50      0.33      0.40         3\n",
      "\n",
      "    accuracy                           0.62         8\n",
      "   macro avg       0.58      0.57      0.56         8\n",
      "weighted avg       0.60      0.62      0.60         8\n",
      "\n"
     ]
    }
   ],
   "source": [
    "data = np.array(data)\n",
    "lables = np.array(lables)\n",
    "\n",
    "le = LabelEncoder()\n",
    "lables = le.fit_transform(lables)\n",
    "\n",
    "myset = set(lables)\n",
    "print(myset)\n",
    "\n",
    "dataset_size = data.shape[0]\n",
    "data = data.reshape(dataset_size,-1)\n",
    "\n",
    "print(data.shape)\n",
    "print(lables.shape)\n",
    "print(dataset_size)\n",
    "\n",
    "(trainX, testX, trainY, testY ) = train_test_split(data, lables, test_size= 0.25, random_state=42)\n",
    "\n",
    "model = KNeighborsClassifier(n_neighbors=3, n_jobs=-1)\n",
    "model.fit(trainX, trainY)\n",
    "\n",
    "print(classification_report(testY, model.predict(testX), target_names=le.classes_))"
   ]
  },
  {
   "cell_type": "code",
   "execution_count": 65,
   "id": "d1dd2a1f",
   "metadata": {},
   "outputs": [
    {
     "data": {
      "text/plain": [
       "0.625"
      ]
     },
     "execution_count": 65,
     "metadata": {},
     "output_type": "execute_result"
    }
   ],
   "source": [
    "score = model.score(testX, testY)\n",
    "score"
   ]
  },
  {
   "cell_type": "code",
   "execution_count": null,
   "id": "5e13699b",
   "metadata": {},
   "outputs": [],
   "source": [
    "from sklearn.model_selection import cross_val_score\n",
    "from sklearn.tree import DecisionTreeClassifier\n",
    "clf = DecisionTreeClassifier(random_state=0)\n",
    "cross_val_score(clf, trainX, trainY, cv=10)\n",
    "clf.fit(trainX, trainY)\n",
    "score = clf.score(testX, testY)\n",
    "score"
   ]
  },
  {
   "cell_type": "code",
   "execution_count": null,
   "id": "027fc477",
   "metadata": {},
   "outputs": [],
   "source": [
    "from sklearn.ensemble import GradientBoostingClassifier\n",
    "clf = GradientBoostingClassifier(n_estimators=100, learning_rate=1.0,\n",
    "     max_depth=1, random_state=0).fit(trainX, trainY)\n",
    "clf.score(testX, testY)"
   ]
  }
 ],
 "metadata": {
  "kernelspec": {
   "display_name": "Python 3 (ipykernel)",
   "language": "python",
   "name": "python3"
  },
  "language_info": {
   "codemirror_mode": {
    "name": "ipython",
    "version": 3
   },
   "file_extension": ".py",
   "mimetype": "text/x-python",
   "name": "python",
   "nbconvert_exporter": "python",
   "pygments_lexer": "ipython3",
   "version": "3.8.2"
  }
 },
 "nbformat": 4,
 "nbformat_minor": 5
}
